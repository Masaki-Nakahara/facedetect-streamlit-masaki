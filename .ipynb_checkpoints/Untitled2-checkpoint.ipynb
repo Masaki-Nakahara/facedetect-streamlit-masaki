{
 "cells": [
  {
   "cell_type": "code",
   "execution_count": 1,
   "id": "b50ac102-d568-4690-8c65-56bc100b95bc",
   "metadata": {},
   "outputs": [
    {
     "ename": "KeyError",
     "evalue": "'USERPROFILE'",
     "output_type": "error",
     "traceback": [
      "\u001b[0;31m---------------------------------------------------------------------------\u001b[0m",
      "\u001b[0;31mKeyError\u001b[0m                                  Traceback (most recent call last)",
      "Input \u001b[0;32mIn [1]\u001b[0m, in \u001b[0;36m<module>\u001b[0;34m\u001b[0m\n\u001b[1;32m     29\u001b[0m response \u001b[38;5;241m=\u001b[39m request\u001b[38;5;241m.\u001b[39mjson()\n\u001b[1;32m     31\u001b[0m \u001b[38;5;66;03m# URLの画像保存\u001b[39;00m\n\u001b[0;32m---> 32\u001b[0m image_path \u001b[38;5;241m=\u001b[39m os\u001b[38;5;241m.\u001b[39mpath\u001b[38;5;241m.\u001b[39mjoin(os\u001b[38;5;241m.\u001b[39mpath\u001b[38;5;241m.\u001b[39mjoin(os\u001b[38;5;241m.\u001b[39mpath\u001b[38;5;241m.\u001b[39mjoin(\u001b[43mos\u001b[49m\u001b[38;5;241;43m.\u001b[39;49m\u001b[43menviron\u001b[49m\u001b[43m[\u001b[49m\u001b[38;5;124;43m'\u001b[39;49m\u001b[38;5;124;43mUSERPROFILE\u001b[39;49m\u001b[38;5;124;43m'\u001b[39;49m\u001b[43m]\u001b[49m), \u001b[38;5;124m'\u001b[39m\u001b[38;5;124mDesktop\u001b[39m\u001b[38;5;124m'\u001b[39m),\u001b[38;5;124m'\u001b[39m\u001b[38;5;124mmyPicture.png\u001b[39m\u001b[38;5;124m'\u001b[39m)\n\u001b[1;32m     33\u001b[0m urllib\u001b[38;5;241m.\u001b[39mrequest\u001b[38;5;241m.\u001b[39murlretrieve(image_url,image_path)\n\u001b[1;32m     35\u001b[0m \u001b[38;5;66;03m# 顔と認識された箇所に四角を描く関数\u001b[39;00m\n",
      "File \u001b[0;32m~/.pyenv/versions/3.9.0/lib/python3.9/os.py:679\u001b[0m, in \u001b[0;36m_Environ.__getitem__\u001b[0;34m(self, key)\u001b[0m\n\u001b[1;32m    676\u001b[0m     value \u001b[38;5;241m=\u001b[39m \u001b[38;5;28mself\u001b[39m\u001b[38;5;241m.\u001b[39m_data[\u001b[38;5;28mself\u001b[39m\u001b[38;5;241m.\u001b[39mencodekey(key)]\n\u001b[1;32m    677\u001b[0m \u001b[38;5;28;01mexcept\u001b[39;00m \u001b[38;5;167;01mKeyError\u001b[39;00m:\n\u001b[1;32m    678\u001b[0m     \u001b[38;5;66;03m# raise KeyError with the original key value\u001b[39;00m\n\u001b[0;32m--> 679\u001b[0m     \u001b[38;5;28;01mraise\u001b[39;00m \u001b[38;5;167;01mKeyError\u001b[39;00m(key) \u001b[38;5;28;01mfrom\u001b[39;00m \u001b[38;5;28mNone\u001b[39m\n\u001b[1;32m    680\u001b[0m \u001b[38;5;28;01mreturn\u001b[39;00m \u001b[38;5;28mself\u001b[39m\u001b[38;5;241m.\u001b[39mdecodevalue(value)\n",
      "\u001b[0;31mKeyError\u001b[0m: 'USERPROFILE'"
     ]
    }
   ],
   "source": [
    "import requests,json,urllib.request,os\n",
    "from PIL import Image,ImageDraw,ImageFont\n",
    "\n",
    "# サブスクリプションキー設定\n",
    "subscription_key = '75c6dbfc756c4018afcb647884be3edd'\n",
    "assert subscription_key\n",
    "\n",
    "# エンドポイントURL設定\n",
    "face_api_url = 'https://20220708masaki.cognitiveservices.azure.com/face/v1.0/detect'\n",
    "\n",
    "# 顔認識させる画像のURL\n",
    "image_url = 'https://upload.wikimedia.org/wikipedia/commons/3/37/Dagestani_man_and_woman.jpg'\n",
    "\n",
    "# ヘッダ設定\n",
    "headers = {'Ocp-Apim-Subscription-Key': subscription_key}\n",
    "\n",
    "# パラメーターの設定\n",
    "params = {\n",
    "    'returnFaceId': 'true',\n",
    "    'returnFaceLandmarks': 'false',\n",
    "    'returnFaceAttributes': 'age,gender,headPose,smile,facialHair,glasses,emotion,hair,makeup,occlusion,accessories,blur,exposure,noise',\n",
    "}\n",
    "\n",
    "# POSTリクエスト\n",
    "request = requests.post(face_api_url, params=params,\n",
    "                         headers=headers, json={\"url\": image_url})\n",
    "\n",
    "# JSONデコード\n",
    "response = request.json()\n",
    "\n",
    "# URLの画像保存\n",
    "image_path = 'sample1.JPG'\n",
    "urllib.request.urlretrieve(image_url,image_path)\n",
    "\n",
    "# 顔と認識された箇所に四角を描く関数\n",
    "def draw_rectangle(draw, coordinates, color, width = 1):\n",
    "    for i in range(width):\n",
    "        rect_start = (coordinates[0][0] - i, coordinates[0][1] - i)\n",
    "        rect_end = (coordinates[1][0] + i, coordinates[1][1] + i)\n",
    "        draw.rectangle((rect_start, rect_end), outline = color)\n",
    "\n",
    "# 顔と認識された箇所に性別を描く関数\n",
    "def draw_gender(draw, coordinates, gender, align, font, fill):\n",
    "    draw.text(coordinates, gender, align = align,font = font, fill = fill)\n",
    "\n",
    "# イメージオブジェクト生成\n",
    "im = Image.open(image_path)\n",
    "drawing = ImageDraw.Draw(im)\n",
    "\n",
    "for index in range(len(response)):\n",
    "    # 取得した顔情報\n",
    "    image_top    = response[index]['faceRectangle']['top']\n",
    "    image_left   = response[index]['faceRectangle']['left']\n",
    "    image_height = response[index]['faceRectangle']['height']\n",
    "    image_width  = response[index]['faceRectangle']['width']\n",
    "    image_gender = response[index]['faceAttributes']['gender']\n",
    "\n",
    "    # 関数呼び出し(四角)\n",
    "    face_top_left = (image_left, image_top)\n",
    "    face_bottom_right = (image_left + image_width, image_top + image_height)\n",
    "    outline_width = 10\n",
    "    outline_color = \"Blue\"\n",
    "    draw_rectangle(drawing, (face_top_left, face_bottom_right), color = outline_color, width = outline_width)\n",
    "\n",
    "    # 関数呼び出し(性別)\n",
    "    gender_top_left = (image_left, image_top - 100)\n",
    "    font = ImageFont.truetype(r'C:\\Windows\\Fonts\\HGRSGU.TTC', 100) \n",
    "    align = 'Left'\n",
    "    fill  = 'Red'\n",
    "    draw_gender(drawing, gender_top_left, image_gender,align, font, fill)\n",
    "\n",
    "# イメージを表示\n",
    "im.show()"
   ]
  },
  {
   "cell_type": "code",
   "execution_count": null,
   "id": "1c39ab38-e9ac-425d-933e-2457604a4ffa",
   "metadata": {},
   "outputs": [],
   "source": []
  }
 ],
 "metadata": {
  "kernelspec": {
   "display_name": "Python 3 (ipykernel)",
   "language": "python",
   "name": "python3"
  },
  "language_info": {
   "codemirror_mode": {
    "name": "ipython",
    "version": 3
   },
   "file_extension": ".py",
   "mimetype": "text/x-python",
   "name": "python",
   "nbconvert_exporter": "python",
   "pygments_lexer": "ipython3",
   "version": "3.9.0"
  }
 },
 "nbformat": 4,
 "nbformat_minor": 5
}
