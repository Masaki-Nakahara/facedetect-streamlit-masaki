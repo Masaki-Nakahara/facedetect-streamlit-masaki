{
 "cells": [
  {
   "cell_type": "code",
   "execution_count": 3,
   "id": "a94c5e9e-5c72-4357-9f68-0ac6bca2f6b0",
   "metadata": {},
   "outputs": [
    {
     "ename": "ModuleNotFoundError",
     "evalue": "No module named 'httplib'",
     "output_type": "error",
     "traceback": [
      "\u001b[0;31m---------------------------------------------------------------------------\u001b[0m",
      "\u001b[0;31mModuleNotFoundError\u001b[0m                       Traceback (most recent call last)",
      "Input \u001b[0;32mIn [3]\u001b[0m, in \u001b[0;36m<module>\u001b[0;34m\u001b[0m\n\u001b[0;32m----> 1\u001b[0m \u001b[38;5;28;01mimport\u001b[39;00m \u001b[38;5;21;01mhttplib\u001b[39;00m\u001b[38;5;241m,\u001b[39m \u001b[38;5;21;01murllib\u001b[39;00m\u001b[38;5;241m,\u001b[39m \u001b[38;5;21;01mbase64\u001b[39;00m\n\u001b[1;32m      2\u001b[0m \u001b[38;5;28;01mimport\u001b[39;00m \u001b[38;5;21;01mjson\u001b[39;00m\n\u001b[1;32m      4\u001b[0m \u001b[38;5;66;03m# Request header\u001b[39;00m\n",
      "\u001b[0;31mModuleNotFoundError\u001b[0m: No module named 'httplib'"
     ]
    }
   ],
   "source": [
    "import httplib, urllib, base64\n",
    "import json\n",
    " \n",
    "# Request header\n",
    "headers = {\n",
    "# Request headers\n",
    "'Content-Type': 'application/json',\n",
    "'Ocp-Apim-Subscription-Key': '67a99edb490343ad924e14ba33d56923',\n",
    "}\n",
    " \n",
    "params = urllib.urlencode({\n",
    "# Request parameters\n",
    "'returnFaceId': 'true',\n",
    "'returnFaceLandmarks': 'true',\n",
    "'returnFaceAttributes': 'age,gender,smile,facialHair,headPose,glasses',\n",
    "})\n",
    " \n",
    "image_url = 'https://raw.githubusercontent.com/Azure-Samples/cognitive-services-sample-data-files/master/ComputerVision/Images/faces.jpg'\n",
    " \n",
    "body = {\n",
    "# Request body\n",
    "'url': image_url\n",
    "}\n",
    " \n",
    "try:\n",
    "    conn = httplib.HTTPSConnection('api.projectoxford.ai')\n",
    "    conn.request(\"POST\", \"/face/v1.0/detect?%s\" % params, json.dumps(body), headers)\n",
    "    response = conn.getresponse()\n",
    "    data = json.loads(response.read())\n",
    "    print(json.dumps(data, indent=4))\n",
    "    conn.close()\n",
    "except Exception as e:\n",
    "    print(\"[Errno {0}] {1}\".format(e.errno, e.strerror))\n"
   ]
  },
  {
   "cell_type": "code",
   "execution_count": null,
   "id": "e7ae6475-9e5d-4e7f-abd5-a576d37b2f87",
   "metadata": {},
   "outputs": [],
   "source": []
  }
 ],
 "metadata": {
  "kernelspec": {
   "display_name": "Python 3 (ipykernel)",
   "language": "python",
   "name": "python3"
  },
  "language_info": {
   "codemirror_mode": {
    "name": "ipython",
    "version": 3
   },
   "file_extension": ".py",
   "mimetype": "text/x-python",
   "name": "python",
   "nbconvert_exporter": "python",
   "pygments_lexer": "ipython3",
   "version": "3.9.0"
  }
 },
 "nbformat": 4,
 "nbformat_minor": 5
}
