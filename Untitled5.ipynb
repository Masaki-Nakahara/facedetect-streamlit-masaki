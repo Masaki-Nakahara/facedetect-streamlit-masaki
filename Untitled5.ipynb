{
 "cells": [
  {
   "cell_type": "code",
   "execution_count": 2,
   "id": "a68addae-6fd8-44e5-986a-9d25a014c1eb",
   "metadata": {},
   "outputs": [
    {
     "name": "stdout",
     "output_type": "stream",
     "text": [
      "{\"error\": {\"code\": \"InvalidRequest\", \"message\": \"Invalid request has been sent.\", \"innererror\": {\"code\": \"UnsupportedFeature\", \"message\": \"Feature is not supported. Please apply for access at https://aka.ms/facerecognition\"}}}\n"
     ]
    }
   ],
   "source": [
    "import json, os, requests\n",
    "\n",
    "subscription_key = 'f90718ed1abb4978b6cf74c80b6a9b38'\n",
    "\n",
    "face_api_url = 'https://202207082masaki.cognitiveservices.azure.com/face/v1.0/detect'\n",
    "\n",
    "image_url = 'https://raw.githubusercontent.com/Azure-Samples/cognitive-services-sample-data-files/master/ComputerVision/Images/faces.jpg'\n",
    "\n",
    "headers = {'Ocp-Apim-Subscription-Key': subscription_key}\n",
    "\n",
    "params = {\n",
    "    'detectionModel': 'detection_03',\n",
    "    'returnFaceId': 'true'\n",
    "}\n",
    "\n",
    "response = requests.post(face_api_url, params=params,\n",
    "                         headers=headers, json={\"url\": image_url})\n",
    "print(json.dumps(response.json()))"
   ]
  },
  {
   "cell_type": "code",
   "execution_count": null,
   "id": "1bbfc819-1892-4b5e-9486-c145a1fefb49",
   "metadata": {},
   "outputs": [],
   "source": []
  }
 ],
 "metadata": {
  "kernelspec": {
   "display_name": "Python 3 (ipykernel)",
   "language": "python",
   "name": "python3"
  },
  "language_info": {
   "codemirror_mode": {
    "name": "ipython",
    "version": 3
   },
   "file_extension": ".py",
   "mimetype": "text/x-python",
   "name": "python",
   "nbconvert_exporter": "python",
   "pygments_lexer": "ipython3",
   "version": "3.9.0"
  }
 },
 "nbformat": 4,
 "nbformat_minor": 5
}
